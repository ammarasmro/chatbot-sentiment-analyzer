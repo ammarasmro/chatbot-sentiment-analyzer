{
  "nbformat": 4,
  "nbformat_minor": 0,
  "metadata": {
    "colab": {
      "name": "rnn_twitter.ipynb",
      "version": "0.3.2",
      "views": {},
      "default_view": {},
      "provenance": []
    },
    "kernelspec": {
      "display_name": "Python 3",
      "language": "python",
      "name": "python3"
    },
    "accelerator": "GPU"
  },
  "cells": [
    {
      "metadata": {
        "id": "x_eCWQSQBVFr",
        "colab_type": "text"
      },
      "cell_type": "markdown",
      "source": [
        "# Sentiment Analysis of Twitter data\n",
        "\n",
        "\n",
        "---"
      ]
    },
    {
      "metadata": {
        "id": "XwhoVhLBpxTn",
        "colab_type": "code",
        "colab": {
          "autoexec": {
            "startup": false,
            "wait_interval": 0
          }
        }
      },
      "cell_type": "code",
      "source": [
        "import pandas as pd"
      ],
      "execution_count": 0,
      "outputs": []
    },
    {
      "metadata": {
        "id": "NqZDihAmp0AP",
        "colab_type": "code",
        "colab": {
          "autoexec": {
            "startup": false,
            "wait_interval": 0
          }
        }
      },
      "cell_type": "code",
      "source": [
        "df = pd.read_csv('https://github.com/ammarasmro/chatbot-sentiment-analyzer/raw/master/data/train.csv', sep=',',\n",
        "                  encoding =\"ISO-8859-1\")"
      ],
      "execution_count": 0,
      "outputs": []
    },
    {
      "metadata": {
        "id": "BhPvxM4JqH0V",
        "colab_type": "code",
        "colab": {
          "autoexec": {
            "startup": false,
            "wait_interval": 0
          },
          "base_uri": "https://localhost:8080/",
          "height": 297
        },
        "outputId": "0afddeb2-8805-46b2-d27b-622392d05f55",
        "executionInfo": {
          "status": "ok",
          "timestamp": 1526269832978,
          "user_tz": 360,
          "elapsed": 426,
          "user": {
            "displayName": "Ammar Asmro",
            "photoUrl": "//lh4.googleusercontent.com/-NxigMSYgvpM/AAAAAAAAAAI/AAAAAAABOuo/3rToDItOwTM/s50-c-k-no/photo.jpg",
            "userId": "114087223855581290524"
          }
        }
      },
      "cell_type": "code",
      "source": [
        "df.describe()"
      ],
      "execution_count": 26,
      "outputs": [
        {
          "output_type": "execute_result",
          "data": {
            "text/html": [
              "<div>\n",
              "<style scoped>\n",
              "    .dataframe tbody tr th:only-of-type {\n",
              "        vertical-align: middle;\n",
              "    }\n",
              "\n",
              "    .dataframe tbody tr th {\n",
              "        vertical-align: top;\n",
              "    }\n",
              "\n",
              "    .dataframe thead th {\n",
              "        text-align: right;\n",
              "    }\n",
              "</style>\n",
              "<table border=\"1\" class=\"dataframe\">\n",
              "  <thead>\n",
              "    <tr style=\"text-align: right;\">\n",
              "      <th></th>\n",
              "      <th>ItemID</th>\n",
              "      <th>Sentiment</th>\n",
              "    </tr>\n",
              "  </thead>\n",
              "  <tbody>\n",
              "    <tr>\n",
              "      <th>count</th>\n",
              "      <td>99989.000000</td>\n",
              "      <td>99989.000000</td>\n",
              "    </tr>\n",
              "    <tr>\n",
              "      <th>mean</th>\n",
              "      <td>50005.110042</td>\n",
              "      <td>0.564632</td>\n",
              "    </tr>\n",
              "    <tr>\n",
              "      <th>std</th>\n",
              "      <td>28865.894393</td>\n",
              "      <td>0.495808</td>\n",
              "    </tr>\n",
              "    <tr>\n",
              "      <th>min</th>\n",
              "      <td>1.000000</td>\n",
              "      <td>0.000000</td>\n",
              "    </tr>\n",
              "    <tr>\n",
              "      <th>25%</th>\n",
              "      <td>25009.000000</td>\n",
              "      <td>0.000000</td>\n",
              "    </tr>\n",
              "    <tr>\n",
              "      <th>50%</th>\n",
              "      <td>50006.000000</td>\n",
              "      <td>1.000000</td>\n",
              "    </tr>\n",
              "    <tr>\n",
              "      <th>75%</th>\n",
              "      <td>75003.000000</td>\n",
              "      <td>1.000000</td>\n",
              "    </tr>\n",
              "    <tr>\n",
              "      <th>max</th>\n",
              "      <td>100000.000000</td>\n",
              "      <td>1.000000</td>\n",
              "    </tr>\n",
              "  </tbody>\n",
              "</table>\n",
              "</div>"
            ],
            "text/plain": [
              "              ItemID     Sentiment\n",
              "count   99989.000000  99989.000000\n",
              "mean    50005.110042      0.564632\n",
              "std     28865.894393      0.495808\n",
              "min         1.000000      0.000000\n",
              "25%     25009.000000      0.000000\n",
              "50%     50006.000000      1.000000\n",
              "75%     75003.000000      1.000000\n",
              "max    100000.000000      1.000000"
            ]
          },
          "metadata": {
            "tags": []
          },
          "execution_count": 26
        }
      ]
    },
    {
      "metadata": {
        "id": "6r8Y_uWzuVq2",
        "colab_type": "code",
        "colab": {
          "autoexec": {
            "startup": false,
            "wait_interval": 0
          },
          "base_uri": "https://localhost:8080/",
          "height": 204
        },
        "outputId": "39c39889-9908-4ee6-c083-45342e35feb4",
        "executionInfo": {
          "status": "ok",
          "timestamp": 1526269806909,
          "user_tz": 360,
          "elapsed": 509,
          "user": {
            "displayName": "Ammar Asmro",
            "photoUrl": "//lh4.googleusercontent.com/-NxigMSYgvpM/AAAAAAAAAAI/AAAAAAABOuo/3rToDItOwTM/s50-c-k-no/photo.jpg",
            "userId": "114087223855581290524"
          }
        }
      },
      "cell_type": "code",
      "source": [
        "df.head()"
      ],
      "execution_count": 24,
      "outputs": [
        {
          "output_type": "execute_result",
          "data": {
            "text/html": [
              "<div>\n",
              "<style scoped>\n",
              "    .dataframe tbody tr th:only-of-type {\n",
              "        vertical-align: middle;\n",
              "    }\n",
              "\n",
              "    .dataframe tbody tr th {\n",
              "        vertical-align: top;\n",
              "    }\n",
              "\n",
              "    .dataframe thead th {\n",
              "        text-align: right;\n",
              "    }\n",
              "</style>\n",
              "<table border=\"1\" class=\"dataframe\">\n",
              "  <thead>\n",
              "    <tr style=\"text-align: right;\">\n",
              "      <th></th>\n",
              "      <th>ItemID</th>\n",
              "      <th>Sentiment</th>\n",
              "      <th>SentimentText</th>\n",
              "    </tr>\n",
              "  </thead>\n",
              "  <tbody>\n",
              "    <tr>\n",
              "      <th>0</th>\n",
              "      <td>1</td>\n",
              "      <td>0</td>\n",
              "      <td>is so sad for my APL frie...</td>\n",
              "    </tr>\n",
              "    <tr>\n",
              "      <th>1</th>\n",
              "      <td>2</td>\n",
              "      <td>0</td>\n",
              "      <td>I missed the New Moon trail...</td>\n",
              "    </tr>\n",
              "    <tr>\n",
              "      <th>2</th>\n",
              "      <td>3</td>\n",
              "      <td>1</td>\n",
              "      <td>omg its already 7:30 :O</td>\n",
              "    </tr>\n",
              "    <tr>\n",
              "      <th>3</th>\n",
              "      <td>4</td>\n",
              "      <td>0</td>\n",
              "      <td>.. Omgaga. Im sooo  im gunna CRy. I'...</td>\n",
              "    </tr>\n",
              "    <tr>\n",
              "      <th>4</th>\n",
              "      <td>5</td>\n",
              "      <td>0</td>\n",
              "      <td>i think mi bf is cheating on me!!!   ...</td>\n",
              "    </tr>\n",
              "  </tbody>\n",
              "</table>\n",
              "</div>"
            ],
            "text/plain": [
              "   ItemID  Sentiment                                      SentimentText\n",
              "0       1          0                       is so sad for my APL frie...\n",
              "1       2          0                     I missed the New Moon trail...\n",
              "2       3          1                            omg its already 7:30 :O\n",
              "3       4          0            .. Omgaga. Im sooo  im gunna CRy. I'...\n",
              "4       5          0           i think mi bf is cheating on me!!!   ..."
            ]
          },
          "metadata": {
            "tags": []
          },
          "execution_count": 24
        }
      ]
    },
    {
      "metadata": {
        "id": "oeE0UKjmuppD",
        "colab_type": "code",
        "colab": {
          "autoexec": {
            "startup": false,
            "wait_interval": 0
          },
          "base_uri": "https://localhost:8080/",
          "height": 396
        },
        "outputId": "cba1919b-af96-4415-8f3d-e03dc1245229",
        "executionInfo": {
          "status": "ok",
          "timestamp": 1526269827173,
          "user_tz": 360,
          "elapsed": 974,
          "user": {
            "displayName": "Ammar Asmro",
            "photoUrl": "//lh4.googleusercontent.com/-NxigMSYgvpM/AAAAAAAAAAI/AAAAAAABOuo/3rToDItOwTM/s50-c-k-no/photo.jpg",
            "userId": "114087223855581290524"
          }
        }
      },
      "cell_type": "code",
      "source": [
        "df.hist('Sentiment')"
      ],
      "execution_count": 25,
      "outputs": [
        {
          "output_type": "execute_result",
          "data": {
            "text/plain": [
              "array([[<matplotlib.axes._subplots.AxesSubplot object at 0x7f286c4ffe10>]],\n",
              "      dtype=object)"
            ]
          },
          "metadata": {
            "tags": []
          },
          "execution_count": 25
        },
        {
          "output_type": "display_data",
          "data": {
            "image/png": "[encoded data removed]",
            "text/plain": [
              "<matplotlib.figure.Figure at 0x7f286c4ffa90>"
            ]
          },
          "metadata": {
            "tags": []
          }
        }
      ]
    },
    {
      "metadata": {
        "id": "DcTlZrpe0EYy",
        "colab_type": "code",
        "colab": {
          "autoexec": {
            "startup": false,
            "wait_interval": 0
          }
        }
      },
      "cell_type": "code",
      "source": [
        "import re"
      ],
      "execution_count": 0,
      "outputs": []
    },
    {
      "metadata": {
        "id": "EUBJZmzBz6DP",
        "colab_type": "code",
        "colab": {
          "autoexec": {
            "startup": false,
            "wait_interval": 0
          }
        }
      },
      "cell_type": "code",
      "source": [
        "df['SentimentText'] = df['SentimentText'].apply(lambda x: re.sub(r\"[^a-zA-Z0-9]\", \" \", x.lower().strip()))"
      ],
      "execution_count": 0,
      "outputs": []
    },
    {
      "metadata": {
        "id": "CxoAx8Fp0SUF",
        "colab_type": "code",
        "colab": {
          "autoexec": {
            "startup": false,
            "wait_interval": 0
          },
          "base_uri": "https://localhost:8080/",
          "height": 204
        },
        "outputId": "80921067-e5a9-435a-dc4d-a27bf7b4e596",
        "executionInfo": {
          "status": "ok",
          "timestamp": 1526270658425,
          "user_tz": 360,
          "elapsed": 1013,
          "user": {
            "displayName": "Ammar Asmro",
            "photoUrl": "//lh4.googleusercontent.com/-NxigMSYgvpM/AAAAAAAAAAI/AAAAAAABOuo/3rToDItOwTM/s50-c-k-no/photo.jpg",
            "userId": "114087223855581290524"
          }
        }
      },
      "cell_type": "code",
      "source": [
        "df['SentimentText'][:10]"
      ],
      "execution_count": 45,
      "outputs": [
        {
          "output_type": "execute_result",
          "data": {
            "text/plain": [
              "0                          is so sad for my apl friend\n",
              "1                        i missed the new moon trailer\n",
              "2                              omg its already 7 30  o\n",
              "3    omgaga  im sooo  im gunna cry  i ve been at th...\n",
              "4         i think mi bf is cheating on me          t t\n",
              "5                             or i just worry too much\n",
              "6                     juuuuuuuuuuuuuuuuussssst chillin\n",
              "7    sunny again        work tomorrow            tv...\n",
              "8      handed in my uniform today   i miss you already\n",
              "9                 hmmmm     i wonder how she my number\n",
              "Name: SentimentText, dtype: object"
            ]
          },
          "metadata": {
            "tags": []
          },
          "execution_count": 45
        }
      ]
    },
    {
      "metadata": {
        "id": "DEedSkilzAnu",
        "colab_type": "code",
        "colab": {
          "autoexec": {
            "startup": false,
            "wait_interval": 0
          },
          "base_uri": "https://localhost:8080/",
          "height": 68
        },
        "outputId": "190b2a87-4244-426a-b450-8d9631121eac",
        "executionInfo": {
          "status": "ok",
          "timestamp": 1526270332916,
          "user_tz": 360,
          "elapsed": 1564,
          "user": {
            "displayName": "Ammar Asmro",
            "photoUrl": "//lh4.googleusercontent.com/-NxigMSYgvpM/AAAAAAAAAAI/AAAAAAABOuo/3rToDItOwTM/s50-c-k-no/photo.jpg",
            "userId": "114087223855581290524"
          }
        }
      },
      "cell_type": "code",
      "source": [
        "import nltk\n",
        "nltk.download('punkt')"
      ],
      "execution_count": 32,
      "outputs": [
        {
          "output_type": "stream",
          "text": [
            "[nltk_data] Downloading package punkt to /content/nltk_data...\n",
            "[nltk_data]   Unzipping tokenizers/punkt.zip.\n"
          ],
          "name": "stdout"
        },
        {
          "output_type": "execute_result",
          "data": {
            "text/plain": [
              "True"
            ]
          },
          "metadata": {
            "tags": []
          },
          "execution_count": 32
        }
      ]
    },
    {
      "metadata": {
        "id": "VS3psaiczB1s",
        "colab_type": "code",
        "colab": {
          "autoexec": {
            "startup": false,
            "wait_interval": 0
          }
        }
      },
      "cell_type": "code",
      "source": [
        "from nltk.tokenize import word_tokenize"
      ],
      "execution_count": 0,
      "outputs": []
    },
    {
      "metadata": {
        "id": "c05tq6E11Xmg",
        "colab_type": "code",
        "colab": {
          "autoexec": {
            "startup": false,
            "wait_interval": 0
          }
        }
      },
      "cell_type": "code",
      "source": [
        "sentiment_text_series = pd.Series(df['SentimentText'])"
      ],
      "execution_count": 0,
      "outputs": []
    },
    {
      "metadata": {
        "id": "-RwDM9Dw1div",
        "colab_type": "code",
        "colab": {
          "autoexec": {
            "startup": false,
            "wait_interval": 0
          },
          "base_uri": "https://localhost:8080/",
          "height": 102
        },
        "outputId": "c6f2b2ff-1b84-4f26-dbac-95ef25298546",
        "executionInfo": {
          "status": "ok",
          "timestamp": 1526270923560,
          "user_tz": 360,
          "elapsed": 522,
          "user": {
            "displayName": "Ammar Asmro",
            "photoUrl": "//lh4.googleusercontent.com/-NxigMSYgvpM/AAAAAAAAAAI/AAAAAAABOuo/3rToDItOwTM/s50-c-k-no/photo.jpg",
            "userId": "114087223855581290524"
          }
        }
      },
      "cell_type": "code",
      "source": [
        "sentiment_text_series.describe()"
      ],
      "execution_count": 48,
      "outputs": [
        {
          "output_type": "execute_result",
          "data": {
            "text/plain": [
              "count      99989\n",
              "unique     99836\n",
              "top       4aplin\n",
              "freq          13\n",
              "Name: SentimentText, dtype: object"
            ]
          },
          "metadata": {
            "tags": []
          },
          "execution_count": 48
        }
      ]
    },
    {
      "metadata": {
        "id": "B-de899B1mUr",
        "colab_type": "code",
        "colab": {
          "autoexec": {
            "startup": false,
            "wait_interval": 0
          },
          "base_uri": "https://localhost:8080/",
          "height": 119
        },
        "outputId": "8bf64637-f0cd-49a1-e9c0-ab1bc2cbb1e5",
        "executionInfo": {
          "status": "ok",
          "timestamp": 1526270951485,
          "user_tz": 360,
          "elapsed": 448,
          "user": {
            "displayName": "Ammar Asmro",
            "photoUrl": "//lh4.googleusercontent.com/-NxigMSYgvpM/AAAAAAAAAAI/AAAAAAABOuo/3rToDItOwTM/s50-c-k-no/photo.jpg",
            "userId": "114087223855581290524"
          }
        }
      },
      "cell_type": "code",
      "source": [
        "sentiment_text_series.head()"
      ],
      "execution_count": 49,
      "outputs": [
        {
          "output_type": "execute_result",
          "data": {
            "text/plain": [
              "0                          is so sad for my apl friend\n",
              "1                        i missed the new moon trailer\n",
              "2                              omg its already 7 30  o\n",
              "3    omgaga  im sooo  im gunna cry  i ve been at th...\n",
              "4         i think mi bf is cheating on me          t t\n",
              "Name: SentimentText, dtype: object"
            ]
          },
          "metadata": {
            "tags": []
          },
          "execution_count": 49
        }
      ]
    },
    {
      "metadata": {
        "id": "zXvX6r5B1Qfe",
        "colab_type": "code",
        "colab": {
          "autoexec": {
            "startup": false,
            "wait_interval": 0
          }
        }
      },
      "cell_type": "code",
      "source": [
        "tokenized_sentiment_text = sentiment_text_series.apply(lambda x: word_tokenize(x))"
      ],
      "execution_count": 0,
      "outputs": []
    },
    {
      "metadata": {
        "id": "Uyhna0WD2A9F",
        "colab_type": "code",
        "colab": {
          "autoexec": {
            "startup": false,
            "wait_interval": 0
          },
          "base_uri": "https://localhost:8080/",
          "height": 34
        },
        "outputId": "b0b22b06-0ff2-4dc6-88f4-223057a1d1e7",
        "executionInfo": {
          "status": "ok",
          "timestamp": 1526271244426,
          "user_tz": 360,
          "elapsed": 1188,
          "user": {
            "displayName": "Ammar Asmro",
            "photoUrl": "//lh4.googleusercontent.com/-NxigMSYgvpM/AAAAAAAAAAI/AAAAAAABOuo/3rToDItOwTM/s50-c-k-no/photo.jpg",
            "userId": "114087223855581290524"
          }
        }
      },
      "cell_type": "code",
      "source": [
        "vocabulary = set()\n",
        "for tweet in tokenized_sentiment_text:\n",
        "  for word in tweet:\n",
        "    vocabulary.add(word)\n",
        "vocabulary = list(sorted(vocabulary))\n",
        "print(len(vocabulary))"
      ],
      "execution_count": 55,
      "outputs": [
        {
          "output_type": "stream",
          "text": [
            "102525\n"
          ],
          "name": "stdout"
        }
      ]
    },
    {
      "metadata": {
        "id": "eR4z3Hnl2sgu",
        "colab_type": "code",
        "colab": {
          "autoexec": {
            "startup": false,
            "wait_interval": 0
          },
          "base_uri": "https://localhost:8080/",
          "height": 357
        },
        "outputId": "6a58b6ee-d055-4fc3-ab16-97b089d0a210",
        "executionInfo": {
          "status": "ok",
          "timestamp": 1526271374069,
          "user_tz": 360,
          "elapsed": 785,
          "user": {
            "displayName": "Ammar Asmro",
            "photoUrl": "//lh4.googleusercontent.com/-NxigMSYgvpM/AAAAAAAAAAI/AAAAAAABOuo/3rToDItOwTM/s50-c-k-no/photo.jpg",
            "userId": "114087223855581290524"
          }
        }
      },
      "cell_type": "code",
      "source": [
        "vocabulary[73220: 73240]"
      ],
      "execution_count": 66,
      "outputs": [
        {
          "output_type": "execute_result",
          "data": {
            "text/plain": [
              "['lova',\n",
              " 'lovable',\n",
              " 'lovato',\n",
              " 'love',\n",
              " 'loveable',\n",
              " 'lovealwayswins',\n",
              " 'loveandemulsion',\n",
              " 'loveandgluttony',\n",
              " 'loveavle',\n",
              " 'lovebug',\n",
              " 'lovebuggsss',\n",
              " 'loved',\n",
              " 'lovedd',\n",
              " 'loveddddd',\n",
              " 'lovee',\n",
              " 'loveed',\n",
              " 'loveee',\n",
              " 'loveeee',\n",
              " 'loveeeee',\n",
              " 'loveeeeeee']"
            ]
          },
          "metadata": {
            "tags": []
          },
          "execution_count": 66
        }
      ]
    },
    {
      "metadata": {
        "id": "TUgb-UTX9_bS",
        "colab_type": "code",
        "colab": {
          "autoexec": {
            "startup": false,
            "wait_interval": 0
          }
        }
      },
      "cell_type": "code",
      "source": [
        "from collections import Counter"
      ],
      "execution_count": 0,
      "outputs": []
    },
    {
      "metadata": {
        "id": "3MIbkU109Spp",
        "colab_type": "code",
        "colab": {
          "autoexec": {
            "startup": false,
            "wait_interval": 0
          }
        }
      },
      "cell_type": "code",
      "source": [
        "total_counter = Counter()"
      ],
      "execution_count": 0,
      "outputs": []
    },
    {
      "metadata": {
        "id": "eQDVuj_R-Ezc",
        "colab_type": "code",
        "colab": {
          "autoexec": {
            "startup": false,
            "wait_interval": 0
          }
        }
      },
      "cell_type": "code",
      "source": [
        "for tweet in tokenized_sentiment_text:\n",
        "  total_counter.update(tweet)\n",
        "  "
      ],
      "execution_count": 0,
      "outputs": []
    },
    {
      "metadata": {
        "id": "RDEcMP_S-Z7-",
        "colab_type": "code",
        "colab": {
          "autoexec": {
            "startup": false,
            "wait_interval": 0
          },
          "base_uri": "https://localhost:8080/",
          "height": 51
        },
        "outputId": "4257e60f-d5d6-4e13-8ff4-9a9fd802a9c5",
        "executionInfo": {
          "status": "ok",
          "timestamp": 1526273727090,
          "user_tz": 360,
          "elapsed": 448,
          "user": {
            "displayName": "Ammar Asmro",
            "photoUrl": "//lh4.googleusercontent.com/-NxigMSYgvpM/AAAAAAAAAAI/AAAAAAABOuo/3rToDItOwTM/s50-c-k-no/photo.jpg",
            "userId": "114087223855581290524"
          }
        }
      },
      "cell_type": "code",
      "source": [
        "vocab_short = []\n",
        "for i in total_counter.most_common():\n",
        "  if total_counter[i[0]] > 1:\n",
        "    vocab_short.append(i[0])\n",
        "print(len(vocab_short))\n",
        "print(vocab_short[:10])"
      ],
      "execution_count": 104,
      "outputs": [
        {
          "output_type": "stream",
          "text": [
            "34993\n",
            "['i', 'you', 'the', 'to', 'a', 'it', 'and', 'my', 'that', 'for']\n"
          ],
          "name": "stdout"
        }
      ]
    },
    {
      "metadata": {
        "id": "2hZe7INZAQWn",
        "colab_type": "code",
        "colab": {
          "autoexec": {
            "startup": false,
            "wait_interval": 0
          }
        }
      },
      "cell_type": "code",
      "source": [
        "word2id = {}\n",
        "for i in range(len(vocab_short)):\n",
        "  word2id[vocab_short[i]] = i + 1"
      ],
      "execution_count": 0,
      "outputs": []
    },
    {
      "metadata": {
        "id": "EcpvBsenAtB0",
        "colab_type": "code",
        "colab": {
          "autoexec": {
            "startup": false,
            "wait_interval": 0
          }
        }
      },
      "cell_type": "code",
      "source": [
        "id2word = {id: word for word, id in word2id.items()}"
      ],
      "execution_count": 0,
      "outputs": []
    },
    {
      "metadata": {
        "id": "Z6_TYXtJBv6W",
        "colab_type": "code",
        "colab": {
          "autoexec": {
            "startup": false,
            "wait_interval": 0
          },
          "base_uri": "https://localhost:8080/",
          "height": 51
        },
        "outputId": "7a254df6-e656-41ea-b37d-5edaf45e0900",
        "executionInfo": {
          "status": "ok",
          "timestamp": 1526274429858,
          "user_tz": 360,
          "elapsed": 1264,
          "user": {
            "displayName": "Ammar Asmro",
            "photoUrl": "//lh4.googleusercontent.com/-NxigMSYgvpM/AAAAAAAAAAI/AAAAAAABOuo/3rToDItOwTM/s50-c-k-no/photo.jpg",
            "userId": "114087223855581290524"
          }
        }
      },
      "cell_type": "code",
      "source": [
        "id_tweets = []\n",
        "for tweet in tokenized_sentiment_text:\n",
        "  twt = []\n",
        "  for word in tweet: \n",
        "    if word in word2id:\n",
        "      twt.append(word2id[word])\n",
        "    else: twt.append(0)\n",
        "  id_tweets.append(twt)\n",
        "#   id_tweets.append([word2id[word] for word in tweet if word in word2id])\n",
        "print(len(id_tweets))\n",
        "print(id_tweets[7])"
      ],
      "execution_count": 120,
      "outputs": [
        {
          "output_type": "stream",
          "text": [
            "99989\n",
            "[855, 142, 80, 164, 489, 181]\n"
          ],
          "name": "stdout"
        }
      ]
    },
    {
      "metadata": {
        "id": "4IfoYYhVDNoY",
        "colab_type": "code",
        "colab": {
          "autoexec": {
            "startup": false,
            "wait_interval": 0
          }
        }
      },
      "cell_type": "code",
      "source": [
        "from sklearn.model_selection import train_test_split"
      ],
      "execution_count": 0,
      "outputs": []
    },
    {
      "metadata": {
        "id": "s2RxnQsDBPYq",
        "colab_type": "code",
        "colab": {
          "autoexec": {
            "startup": false,
            "wait_interval": 0
          }
        }
      },
      "cell_type": "code",
      "source": [
        "X_train, X_test, y_train, y_test = train_test_split(\n",
        "    np.array(id_tweets), np.array(df['Sentiment']), test_size=0.33, random_state=42)"
      ],
      "execution_count": 0,
      "outputs": []
    },
    {
      "metadata": {
        "id": "vetZsPc5Da17",
        "colab_type": "code",
        "colab": {
          "autoexec": {
            "startup": false,
            "wait_interval": 0
          },
          "base_uri": "https://localhost:8080/",
          "height": 34
        },
        "outputId": "20612d26-9684-4561-ae0f-612d1eb28ccb",
        "executionInfo": {
          "status": "ok",
          "timestamp": 1526274594650,
          "user_tz": 360,
          "elapsed": 915,
          "user": {
            "displayName": "Ammar Asmro",
            "photoUrl": "//lh4.googleusercontent.com/-NxigMSYgvpM/AAAAAAAAAAI/AAAAAAABOuo/3rToDItOwTM/s50-c-k-no/photo.jpg",
            "userId": "114087223855581290524"
          }
        }
      },
      "cell_type": "code",
      "source": [
        "X_train[7]"
      ],
      "execution_count": 128,
      "outputs": [
        {
          "output_type": "execute_result",
          "data": {
            "text/plain": [
              "[29736, 1092, 894, 137, 1288, 15, 461, 5, 308, 268, 1280, 164, 7, 1, 22, 1336]"
            ]
          },
          "metadata": {
            "tags": []
          },
          "execution_count": 128
        }
      ]
    },
    {
      "metadata": {
        "id": "jp-OYgxXDrJA",
        "colab_type": "code",
        "colab": {
          "autoexec": {
            "startup": false,
            "wait_interval": 0
          },
          "base_uri": "https://localhost:8080/",
          "height": 34
        },
        "outputId": "cf594233-5f6b-495f-f39c-deb0b41b22a2",
        "executionInfo": {
          "status": "ok",
          "timestamp": 1526274688125,
          "user_tz": 360,
          "elapsed": 1362,
          "user": {
            "displayName": "Ammar Asmro",
            "photoUrl": "//lh4.googleusercontent.com/-NxigMSYgvpM/AAAAAAAAAAI/AAAAAAABOuo/3rToDItOwTM/s50-c-k-no/photo.jpg",
            "userId": "114087223855581290524"
          }
        }
      },
      "cell_type": "code",
      "source": [
        "max_len = 0\n",
        "for i in X_train:\n",
        "  max_len = max(max_len, len(i))\n",
        "print(max_len)"
      ],
      "execution_count": 131,
      "outputs": [
        {
          "output_type": "stream",
          "text": [
            "155\n"
          ],
          "name": "stdout"
        }
      ]
    },
    {
      "metadata": {
        "id": "LbEcd77xEbCI",
        "colab_type": "code",
        "colab": {
          "autoexec": {
            "startup": false,
            "wait_interval": 0
          }
        }
      },
      "cell_type": "code",
      "source": [
        "from keras.models import Sequential\n",
        "from keras.layers import Embedding, LSTM, Dense, Dropout"
      ],
      "execution_count": 0,
      "outputs": []
    },
    {
      "metadata": {
        "id": "WbG4Jd4QEeXc",
        "colab_type": "code",
        "colab": {
          "autoexec": {
            "startup": false,
            "wait_interval": 0
          }
        }
      },
      "cell_type": "code",
      "source": [
        "vocabulary_size = len(vocab_short) + 1"
      ],
      "execution_count": 0,
      "outputs": []
    },
    {
      "metadata": {
        "id": "inZyTIX-EYvM",
        "colab_type": "code",
        "colab": {
          "autoexec": {
            "startup": false,
            "wait_interval": 0
          },
          "base_uri": "https://localhost:8080/",
          "height": 255
        },
        "outputId": "5d020bae-e2af-44ac-c3e7-ccd5f9564913",
        "executionInfo": {
          "status": "ok",
          "timestamp": 1526274874297,
          "user_tz": 360,
          "elapsed": 1427,
          "user": {
            "displayName": "Ammar Asmro",
            "photoUrl": "//lh4.googleusercontent.com/-NxigMSYgvpM/AAAAAAAAAAI/AAAAAAABOuo/3rToDItOwTM/s50-c-k-no/photo.jpg",
            "userId": "114087223855581290524"
          }
        }
      },
      "cell_type": "code",
      "source": [
        "# TODO: Design your model\n",
        "embedding_size = 32\n",
        "model = Sequential()\n",
        "model.add(Embedding(vocabulary_size, embedding_size, input_length=max_words))\n",
        "model.add(LSTM(100))\n",
        "model.add(Dense(1, activation='sigmoid'))\n",
        "\n",
        "print(model.summary())"
      ],
      "execution_count": 140,
      "outputs": [
        {
          "output_type": "stream",
          "text": [
            "_________________________________________________________________\n",
            "Layer (type)                 Output Shape              Param #   \n",
            "=================================================================\n",
            "embedding_1 (Embedding)      (None, 200, 32)           1119808   \n",
            "_________________________________________________________________\n",
            "lstm_1 (LSTM)                (None, 100)               53200     \n",
            "_________________________________________________________________\n",
            "dense_1 (Dense)              (None, 1)                 101       \n",
            "=================================================================\n",
            "Total params: 1,173,109\n",
            "Trainable params: 1,173,109\n",
            "Non-trainable params: 0\n",
            "_________________________________________________________________\n",
            "None\n"
          ],
          "name": "stdout"
        }
      ]
    },
    {
      "metadata": {
        "id": "jqz5mDufRb72",
        "colab_type": "code",
        "colab": {
          "autoexec": {
            "startup": false,
            "wait_interval": 0
          },
          "base_uri": "https://localhost:8080/",
          "height": 255
        },
        "outputId": "e4984b4c-2277-4593-c10b-78f4cbbf5246",
        "executionInfo": {
          "status": "ok",
          "timestamp": 1526278264006,
          "user_tz": 360,
          "elapsed": 1116,
          "user": {
            "displayName": "Ammar Asmro",
            "photoUrl": "//lh4.googleusercontent.com/-NxigMSYgvpM/AAAAAAAAAAI/AAAAAAABOuo/3rToDItOwTM/s50-c-k-no/photo.jpg",
            "userId": "114087223855581290524"
          }
        }
      },
      "cell_type": "code",
      "source": [
        "# TODO: Design your model\n",
        "embedding_size = 128\n",
        "model = Sequential()\n",
        "model.add(Embedding(vocabulary_size, embedding_size, input_length=max_words))\n",
        "model.add(LSTM(100))\n",
        "model.add(Dense(1, activation='sigmoid'))\n",
        "\n",
        "print(model.summary())"
      ],
      "execution_count": 191,
      "outputs": [
        {
          "output_type": "stream",
          "text": [
            "_________________________________________________________________\n",
            "Layer (type)                 Output Shape              Param #   \n",
            "=================================================================\n",
            "embedding_2 (Embedding)      (None, 200, 128)          4479232   \n",
            "_________________________________________________________________\n",
            "lstm_2 (LSTM)                (None, 100)               91600     \n",
            "_________________________________________________________________\n",
            "dense_2 (Dense)              (None, 1)                 101       \n",
            "=================================================================\n",
            "Total params: 4,570,933\n",
            "Trainable params: 4,570,933\n",
            "Non-trainable params: 0\n",
            "_________________________________________________________________\n",
            "None\n"
          ],
          "name": "stdout"
        }
      ]
    },
    {
      "metadata": {
        "id": "DLFOcfvaEtKh",
        "colab_type": "code",
        "colab": {
          "autoexec": {
            "startup": false,
            "wait_interval": 0
          }
        }
      },
      "cell_type": "code",
      "source": [
        "# TODO: Compile your model, specifying a loss function, optimizer, and metrics\n",
        "model.compile(loss='binary_crossentropy', optimizer='adam', metrics=['accuracy'])"
      ],
      "execution_count": 0,
      "outputs": []
    },
    {
      "metadata": {
        "id": "2VqGysBABVGG",
        "colab_type": "code",
        "colab": {
          "autoexec": {
            "startup": false,
            "wait_interval": 0
          },
          "base_uri": "https://localhost:8080/",
          "height": 173
        },
        "outputId": "e4004da5-43f0-4ab8-c634-b6ce10ae8195",
        "executionInfo": {
          "status": "ok",
          "timestamp": 1526279839864,
          "user_tz": 360,
          "elapsed": 1555532,
          "user": {
            "displayName": "Ammar Asmro",
            "photoUrl": "//lh4.googleusercontent.com/-NxigMSYgvpM/AAAAAAAAAAI/AAAAAAABOuo/3rToDItOwTM/s50-c-k-no/photo.jpg",
            "userId": "114087223855581290524"
          }
        }
      },
      "cell_type": "code",
      "source": [
        "# TODO: Specify training parameters: batch size and number of epochs\n",
        "batch_size = 64\n",
        "num_epochs = 3\n",
        "\n",
        "# TODO(optional): Reserve/specify some training data for validation (not to be used for training)\n",
        "X_valid, y_valid = X_train[:batch_size], y_train[:batch_size]  # first batch_size samples\n",
        "X_train2, y_train2 = X_train[batch_size:], y_train[batch_size:]  # rest for training\n",
        "\n",
        "# TODO: Train your model\n",
        "model.fit(X_train2, y_train2,\n",
        "          validation_data=(X_valid, y_valid),\n",
        "          batch_size=batch_size, epochs=num_epochs)"
      ],
      "execution_count": 193,
      "outputs": [
        {
          "output_type": "stream",
          "text": [
            "Train on 66928 samples, validate on 64 samples\n",
            "Epoch 1/3\n",
            "44992/66928 [===================>..........] - ETA: 2:48 - loss: 0.5296 - acc: 0.7350"
          ],
          "name": "stdout"
        },
        {
          "output_type": "stream",
          "text": [
            "66928/66928 [==============================] - 515s 8ms/step - loss: 0.5121 - acc: 0.7468 - val_loss: 0.6546 - val_acc: 0.7031\n",
            "Epoch 2/3\n",
            "20352/66928 [========>.....................] - ETA: 5:56 - loss: 0.3777 - acc: 0.8324"
          ],
          "name": "stdout"
        },
        {
          "output_type": "stream",
          "text": [
            "66928/66928 [==============================] - 515s 8ms/step - loss: 0.3895 - acc: 0.8250 - val_loss: 0.6789 - val_acc: 0.7344\n",
            "Epoch 3/3\n",
            "10944/66928 [===>..........................] - ETA: 7:12 - loss: 0.2710 - acc: 0.8886"
          ],
          "name": "stdout"
        },
        {
          "output_type": "stream",
          "text": [
            "66928/66928 [==============================] - 524s 8ms/step - loss: 0.2969 - acc: 0.8738 - val_loss: 0.7862 - val_acc: 0.7031\n"
          ],
          "name": "stdout"
        },
        {
          "output_type": "execute_result",
          "data": {
            "text/plain": [
              "<keras.callbacks.History at 0x7f27fced59b0>"
            ]
          },
          "metadata": {
            "tags": []
          },
          "execution_count": 193
        }
      ]
    },
    {
      "metadata": {
        "id": "9ug8flZyEy1I",
        "colab_type": "code",
        "colab": {
          "autoexec": {
            "startup": false,
            "wait_interval": 0
          },
          "base_uri": "https://localhost:8080/",
          "height": 156
        },
        "outputId": "a71c756d-6802-415a-c966-b841d3128692"
      },
      "cell_type": "code",
      "source": [
        "# TODO: Specify training parameters: batch size and number of epochs\n",
        "batch_size = 64\n",
        "num_epochs = 3\n",
        "\n",
        "# TODO(optional): Reserve/specify some training data for validation (not to be used for training)\n",
        "X_valid, y_valid = X_train[:batch_size], y_train[:batch_size]  # first batch_size samples\n",
        "X_train2, y_train2 = X_train[batch_size:], y_train[batch_size:]  # rest for training\n",
        "\n",
        "# TODO: Train your model\n",
        "model.fit(X_train2, y_train2,\n",
        "          validation_data=(X_valid, y_valid),\n",
        "          batch_size=batch_size, epochs=num_epochs)"
      ],
      "execution_count": 0,
      "outputs": [
        {
          "output_type": "stream",
          "text": [
            "Train on 66928 samples, validate on 64 samples\n",
            "Epoch 1/3\n",
            "44992/66928 [===================>..........] - ETA: 2:50 - loss: 0.5304 - acc: 0.7322"
          ],
          "name": "stdout"
        },
        {
          "output_type": "stream",
          "text": [
            "66928/66928 [==============================] - 520s 8ms/step - loss: 0.5159 - acc: 0.7436 - val_loss: 0.6991 - val_acc: 0.6875\n",
            "Epoch 2/3\n",
            "20352/66928 [========>.....................] - ETA: 6:00 - loss: 0.3964 - acc: 0.8226"
          ],
          "name": "stdout"
        },
        {
          "output_type": "stream",
          "text": [
            "66928/66928 [==============================] - 517s 8ms/step - loss: 0.4056 - acc: 0.8163 - val_loss: 0.6937 - val_acc: 0.7031\n",
            "Epoch 3/3\n",
            "10304/66928 [===>..........................] - ETA: 7:16 - loss: 0.3160 - acc: 0.8692"
          ],
          "name": "stdout"
        }
      ]
    },
    {
      "metadata": {
        "id": "fZ788_4zHwcd",
        "colab_type": "code",
        "colab": {
          "autoexec": {
            "startup": false,
            "wait_interval": 0
          }
        }
      },
      "cell_type": "code",
      "source": [
        "import os\n",
        "cache_dir = os.path.join(\"cache\", \"sentiment_analysis\")  # where to store cache files\n",
        "os.makedirs(cache_dir, exist_ok=True)  # ensure cache directory exists"
      ],
      "execution_count": 0,
      "outputs": []
    },
    {
      "metadata": {
        "id": "Yu6TzilVBVGK",
        "colab_type": "code",
        "colab": {
          "autoexec": {
            "startup": false,
            "wait_interval": 0
          }
        }
      },
      "cell_type": "code",
      "source": [
        "\n",
        "# Save your model, so that you can quickly load it in future (and perhaps resume training)\n",
        "model_file = \"rnn_model.h5\"  # HDF5 file\n",
        "model.save(os.path.join(cache_dir, model_file))\n",
        "\n",
        "# Later you can load it using keras.models.load_model()\n",
        "#from keras.models import load_model\n",
        "#model = load_model(os.path.join(cache_dir, model_file))"
      ],
      "execution_count": 0,
      "outputs": []
    },
    {
      "metadata": {
        "id": "OtcZwqMKvcLk",
        "colab_type": "code",
        "colab": {
          "autoexec": {
            "startup": false,
            "wait_interval": 0
          }
        }
      },
      "cell_type": "code",
      "source": [
        "from google.colab import files"
      ],
      "execution_count": 0,
      "outputs": []
    },
    {
      "metadata": {
        "id": "W-mQBcefvTke",
        "colab_type": "code",
        "colab": {
          "autoexec": {
            "startup": false,
            "wait_interval": 0
          }
        }
      },
      "cell_type": "code",
      "source": [
        "model.save('rnn_model.h5')\n",
        "4/AACRrDjr2Oo0Z4xbaHMO56NvDF1a-TVItk3cj22kJD5nw6r7sWEgwQE"
      ],
      "execution_count": 0,
      "outputs": []
    },
    {
      "metadata": {
        "id": "Pew2ttmu3X-B",
        "colab_type": "code",
        "colab": {
          "autoexec": {
            "startup": false,
            "wait_interval": 0
          }
        }
      },
      "cell_type": "code",
      "source": [
        "!pip install -U -q PyDrive"
      ],
      "execution_count": 0,
      "outputs": []
    },
    {
      "metadata": {
        "id": "rxRtpU6B3b31",
        "colab_type": "code",
        "colab": {
          "autoexec": {
            "startup": false,
            "wait_interval": 0
          }
        }
      },
      "cell_type": "code",
      "source": [
        "from pydrive.auth import GoogleAuth\n",
        "from pydrive.drive import GoogleDrive\n",
        "from google.colab import auth\n",
        "from oauth2client.client import GoogleCredentials\n",
        "\n",
        "# 1. Authenticate and create the PyDrive client.\n",
        "auth.authenticate_user()\n",
        "gauth = GoogleAuth()\n",
        "gauth.credentials = GoogleCredentials.get_application_default()\n",
        "drive = GoogleDrive(gauth)\n"
      ],
      "execution_count": 0,
      "outputs": []
    },
    {
      "metadata": {
        "id": "UgOoXYNw76Vs",
        "colab_type": "code",
        "colab": {
          "autoexec": {
            "startup": false,
            "wait_interval": 0
          }
        }
      },
      "cell_type": "code",
      "source": [
        "from googleapiclient.http import MediaFileUpload\n",
        "from googleapiclient.discovery import build"
      ],
      "execution_count": 0,
      "outputs": []
    },
    {
      "metadata": {
        "id": "yXSJlJQe8CnY",
        "colab_type": "code",
        "colab": {
          "autoexec": {
            "startup": false,
            "wait_interval": 0
          }
        }
      },
      "cell_type": "code",
      "source": [
        "drive_service = build('drive', 'v3')\n",
        "\n",
        "def save_file_to_drive(name, path):\n",
        "  file_metadata = {\n",
        "    'name': name,\n",
        "    'mimeType': 'application/octet-stream'\n",
        "  }\n",
        "  media = MediaFileUpload(path, \n",
        "                    mimetype='application/octet-stream',\n",
        "                    resumable=True)\n",
        "\n",
        "  created = drive_service.files().create(body=file_metadata,\n",
        "                               media_body=media,\n",
        "                               fields='id').execute()\n",
        "\n",
        "  print('File ID: {}'.format(created.get('id')))\n",
        "\n",
        "  return created"
      ],
      "execution_count": 0,
      "outputs": []
    },
    {
      "metadata": {
        "id": "kEHZnkgr8TAk",
        "colab_type": "code",
        "colab": {
          "autoexec": {
            "startup": false,
            "wait_interval": 0
          },
          "base_uri": "https://localhost:8080/",
          "height": 51
        },
        "outputId": "c0bf0c70-f9e7-40c8-96d7-cb37f71c570b",
        "executionInfo": {
          "status": "ok",
          "timestamp": 1526289660560,
          "user_tz": 360,
          "elapsed": 2653,
          "user": {
            "displayName": "Ammar Asmro",
            "photoUrl": "//lh4.googleusercontent.com/-NxigMSYgvpM/AAAAAAAAAAI/AAAAAAABOuo/3rToDItOwTM/s50-c-k-no/photo.jpg",
            "userId": "114087223855581290524"
          }
        }
      },
      "cell_type": "code",
      "source": [
        "save_file_to_drive('rnn_model.h5', 'rnn_model.h5')"
      ],
      "execution_count": 257,
      "outputs": [
        {
          "output_type": "stream",
          "text": [
            "File ID: 1hxIOWDNgRMm7JZbuYtc3sYjObYIvD0OR\n"
          ],
          "name": "stdout"
        },
        {
          "output_type": "execute_result",
          "data": {
            "text/plain": [
              "{'id': '1hxIOWDNgRMm7JZbuYtc3sYjObYIvD0OR'}"
            ]
          },
          "metadata": {
            "tags": []
          },
          "execution_count": 257
        }
      ]
    },
    {
      "metadata": {
        "id": "x2rovBjTy9Gr",
        "colab_type": "code",
        "colab": {
          "autoexec": {
            "startup": false,
            "wait_interval": 0
          },
          "base_uri": "https://localhost:8080/",
          "height": 119
        },
        "outputId": "c2ae1651-cff4-4a55-eac4-d7d8f3b03d71",
        "executionInfo": {
          "status": "ok",
          "timestamp": 1526290722477,
          "user_tz": 360,
          "elapsed": 1787,
          "user": {
            "displayName": "Ammar Asmro",
            "photoUrl": "//lh4.googleusercontent.com/-NxigMSYgvpM/AAAAAAAAAAI/AAAAAAABOuo/3rToDItOwTM/s50-c-k-no/photo.jpg",
            "userId": "114087223855581290524"
          }
        }
      },
      "cell_type": "code",
      "source": [
        "!ls -l"
      ],
      "execution_count": 265,
      "outputs": [
        {
          "output_type": "stream",
          "text": [
            "total 53608\r\n",
            "drwxr-xr-x 3 root root     4096 May 14 05:53 cache\r\n",
            "drwxr-xr-x 1 root root     4096 May 14 08:57 datalab\r\n",
            "-rw-r--r-- 1 root root       12 May 14 08:36 example.txt\r\n",
            "drwxr-xr-x 3 root root     4096 May 14 03:58 nltk_data\r\n",
            "-rw-r--r-- 1 root root 54877944 May 14 08:36 rnn_model.h5\r\n"
          ],
          "name": "stdout"
        }
      ]
    },
    {
      "metadata": {
        "id": "32iI3bOFAZ1_",
        "colab_type": "code",
        "colab": {
          "autoexec": {
            "startup": false,
            "wait_interval": 0
          }
        }
      },
      "cell_type": "code",
      "source": [
        "f=open(\"word2id.txt\", \"a+\")"
      ],
      "execution_count": 0,
      "outputs": []
    },
    {
      "metadata": {
        "id": "ZkQladi2ARmd",
        "colab_type": "code",
        "colab": {
          "autoexec": {
            "startup": false,
            "wait_interval": 0
          }
        }
      },
      "cell_type": "code",
      "source": [
        "for i, v in word2id.items():\n",
        "  f.write('{} {}\\n'.format(i, v))"
      ],
      "execution_count": 0,
      "outputs": []
    },
    {
      "metadata": {
        "id": "gCUilWS5_axg",
        "colab_type": "code",
        "colab": {
          "autoexec": {
            "startup": false,
            "wait_interval": 0
          }
        }
      },
      "cell_type": "code",
      "source": [
        "f.close()"
      ],
      "execution_count": 0,
      "outputs": []
    },
    {
      "metadata": {
        "id": "DRoQfiPdA-sM",
        "colab_type": "code",
        "colab": {
          "autoexec": {
            "startup": false,
            "wait_interval": 0
          }
        }
      },
      "cell_type": "code",
      "source": [
        "!rm word2id.txt"
      ],
      "execution_count": 0,
      "outputs": []
    },
    {
      "metadata": {
        "id": "UpvnKr6Ty2ve",
        "colab_type": "code",
        "colab": {
          "autoexec": {
            "startup": false,
            "wait_interval": 0
          }
        }
      },
      "cell_type": "code",
      "source": [
        "files.download('word2id.txt')"
      ],
      "execution_count": 0,
      "outputs": []
    },
    {
      "metadata": {
        "id": "Fxkjb0gFBVGM",
        "colab_type": "code",
        "colab": {
          "autoexec": {
            "startup": false,
            "wait_interval": 0
          },
          "base_uri": "https://localhost:8080/",
          "height": 34
        },
        "outputId": "0f9b5321-194d-471f-c7c5-763f0ab373c9",
        "executionInfo": {
          "status": "ok",
          "timestamp": 1526280408517,
          "user_tz": 360,
          "elapsed": 120216,
          "user": {
            "displayName": "Ammar Asmro",
            "photoUrl": "//lh4.googleusercontent.com/-NxigMSYgvpM/AAAAAAAAAAI/AAAAAAABOuo/3rToDItOwTM/s50-c-k-no/photo.jpg",
            "userId": "114087223855581290524"
          }
        }
      },
      "cell_type": "code",
      "source": [
        "# Evaluate your model on the test set\n",
        "scores = model.evaluate(X_test, y_test, verbose=0)  # returns loss and other metrics specified in model.compile()\n",
        "print(\"Test accuracy:\", scores[1])  # scores[1] should correspond to accuracy if you passed in metrics=['accuracy']"
      ],
      "execution_count": 196,
      "outputs": [
        {
          "output_type": "stream",
          "text": [
            "Test accuracy: 0.7616146922456527\n"
          ],
          "name": "stdout"
        }
      ]
    },
    {
      "metadata": {
        "id": "sRxIPmlIBVGR",
        "colab_type": "code",
        "colab": {
          "autoexec": {
            "startup": false,
            "wait_interval": 0
          }
        }
      },
      "cell_type": "code",
      "source": [
        "result = model.predict(X_test[:1])"
      ],
      "execution_count": 0,
      "outputs": []
    },
    {
      "metadata": {
        "id": "P4degyWfJgcA",
        "colab_type": "code",
        "colab": {
          "autoexec": {
            "startup": false,
            "wait_interval": 0
          },
          "base_uri": "https://localhost:8080/",
          "height": 34
        },
        "outputId": "33fe6aab-171e-41b1-8e0c-e7cf2cfb62fa",
        "executionInfo": {
          "status": "ok",
          "timestamp": 1526286329472,
          "user_tz": 360,
          "elapsed": 452,
          "user": {
            "displayName": "Ammar Asmro",
            "photoUrl": "//lh4.googleusercontent.com/-NxigMSYgvpM/AAAAAAAAAAI/AAAAAAABOuo/3rToDItOwTM/s50-c-k-no/photo.jpg",
            "userId": "114087223855581290524"
          }
        }
      },
      "cell_type": "code",
      "source": [
        "result"
      ],
      "execution_count": 225,
      "outputs": [
        {
          "output_type": "execute_result",
          "data": {
            "text/plain": [
              "array([[0.04955456]], dtype=float32)"
            ]
          },
          "metadata": {
            "tags": []
          },
          "execution_count": 225
        }
      ]
    }
  ]
}